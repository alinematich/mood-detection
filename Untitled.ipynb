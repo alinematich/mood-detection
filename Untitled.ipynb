{
 "cells": [
  {
   "cell_type": "code",
   "execution_count": 4,
   "metadata": {
    "scrolled": true
   },
   "outputs": [],
   "source": [
    "import pandas as pd\n",
    "import numpy as np\n",
    "from keras.utils import to_categorical\n",
    "\n",
    "data = pd.read_csv('./fer2013.csv')\n",
    "example = pd.read_csv('./example_submission.csv', header=None)[0]\n",
    "X_train = np.array(pd.Series(data[data['Usage'] == 'Training']['pixels'].tolist()).map(lambda image: pd.Series(list(map(lambda pixel: float(pixel), image.split()))).values.reshape(48,48).tolist()).tolist()).reshape(28709,48,48,1)\n",
    "y_train = to_categorical(pd.Series(data[data['Usage'] == 'Training']['emotion'].tolist()))\n",
    "X_valid = np.array(pd.Series(data[data['Usage'] == 'PublicTest']['pixels'].tolist()).map(lambda image: pd.Series(list(map(lambda pixel: float(pixel), image.split()))).values.reshape(48,48).tolist()).tolist()).reshape(3589,48,48,1)\n",
    "y_valid = to_categorical(pd.Series(data[data['Usage'] == 'PublicTest']['emotion'].tolist()))\n",
    "X_test = np.array(pd.Series(data[data['Usage'] == 'PrivateTest']['pixels'].tolist()).map(lambda image: pd.Series(list(map(lambda pixel: float(pixel), image.split()))).values.reshape(48,48).tolist()).tolist()).reshape(3589,48,48,1)\n",
    "y_test = to_categorical(pd.Series(data[data['Usage'] == 'PrivateTest']['emotion'].tolist()))"
   ]
  },
  {
   "cell_type": "code",
   "execution_count": 6,
   "metadata": {},
   "outputs": [
    {
     "data": {
      "text/plain": [
       "3589"
      ]
     },
     "execution_count": 6,
     "metadata": {},
     "output_type": "execute_result"
    }
   ],
   "source": [
    "len(y_valid)"
   ]
  },
  {
   "cell_type": "code",
   "execution_count": 58,
   "metadata": {},
   "outputs": [
    {
     "name": "stdout",
     "output_type": "stream",
     "text": [
      "Found 29167 images belonging to 7 classes.\n",
      "Found 3589 images belonging to 7 classes.\n",
      "Epoch 1/7\n",
      "449/449 [==============================] - 91s 202ms/step - loss: 1.8099 - acc: 0.2487 - val_loss: 1.7571 - val_acc: 0.2612\n",
      "Epoch 2/7\n",
      "449/449 [==============================] - 99s 221ms/step - loss: 1.7831 - acc: 0.2565 - val_loss: 1.7239 - val_acc: 0.3013\n",
      "Epoch 3/7\n",
      "449/449 [==============================] - 91s 202ms/step - loss: 1.7537 - acc: 0.2765 - val_loss: 1.6693 - val_acc: 0.3237\n",
      "Epoch 4/7\n",
      "449/449 [==============================] - 87s 194ms/step - loss: 1.7171 - acc: 0.3021 - val_loss: 1.6084 - val_acc: 0.3415\n",
      "Epoch 5/7\n",
      "449/449 [==============================] - 86s 192ms/step - loss: 1.6720 - acc: 0.3294 - val_loss: 1.4567 - val_acc: 0.4464\n",
      "Epoch 6/7\n",
      "449/449 [==============================] - 86s 192ms/step - loss: 1.6172 - acc: 0.3579 - val_loss: 1.5684 - val_acc: 0.3728\n",
      "Epoch 7/7\n",
      "449/449 [==============================] - 86s 192ms/step - loss: 1.5760 - acc: 0.3811 - val_loss: 1.3414 - val_acc: 0.5022\n"
     ]
    }
   ],
   "source": [
    "from keras.models import Sequential\n",
    "from keras.layers import Dense, Conv2D, Flatten, Dropout, MaxPooling2D\n",
    "from keras.optimizers import RMSprop\n",
    "\n",
    "#create model\n",
    "size=48\n",
    "kernel_size = 3\n",
    "drop_out = 0\n",
    "epochs = 7\n",
    "batch_size = 64\n",
    "model = Sequential()\n",
    "\n",
    "#add model layers\n",
    "model.add(Conv2D(32, kernel_size=kernel_size, activation='relu', input_shape=(size,size,1)))\n",
    "model.add(MaxPooling2D((2, 2)))\n",
    "model.add(Conv2D(64, kernel_size=kernel_size, activation='relu'))\n",
    "model.add(MaxPooling2D(2, 2))\n",
    "model.add(Conv2D(128, kernel_size=kernel_size, activation='relu'))\n",
    "model.add(MaxPooling2D(2, 2))\n",
    "model.add(Conv2D(128, kernel_size=kernel_size, activation='relu'))\n",
    "model.add(MaxPooling2D(2, 2))\n",
    "model.add(Flatten())\n",
    "model.add(Dropout(drop_out))\n",
    "model.add(Dense(512, activation='relu'))\n",
    "model.add(Dense(7, activation='softmax'))\n",
    "model.compile(optimizer=RMSprop(lr=0.0003), loss='categorical_crossentropy', metrics=['acc'])\n",
    "\n",
    "\n",
    "from keras.preprocessing.image import ImageDataGenerator\n",
    "\n",
    "train_datagen = ImageDataGenerator(\n",
    "    rescale=1./255,\n",
    "    rotation_range=40,\n",
    "    width_shift_range=0.2,\n",
    "    height_shift_range=0.2,\n",
    "    shear_range=0.2,\n",
    "    zoom_range=0.2,\n",
    "    horizontal_flip=True)\n",
    "\n",
    "validation_datagen = ImageDataGenerator(rescale=1./255)\n",
    "\n",
    "train_generator = train_datagen.flow_from_directory('data/train', color_mode=\"grayscale\", target_size=(size,size),batch_size=batch_size, class_mode='categorical')\n",
    "validation_generator = validation_datagen.flow_from_directory('data/valid', color_mode=\"grayscale\", target_size=(size,size), batch_size=batch_size, class_mode='categorical')\n",
    "\n",
    "model.fit_generator(train_generator, epochs=epochs, steps_per_epoch=int(len(y_train)/batch_size)+1, \n",
    "                    validation_data=validation_generator, validation_steps=7, workers=4)\n",
    "\n",
    "# model.fit(X_train, y_train, validation_data=(X_valid, y_valid), epochs=epochs)\n",
    "model.save('model.h5')"
   ]
  },
  {
   "cell_type": "code",
   "execution_count": 10,
   "metadata": {},
   "outputs": [
    {
     "name": "stdout",
     "output_type": "stream",
     "text": [
      "actual: worried\n",
      "predicted: worried\n"
     ]
    },
    {
     "data": {
      "image/png": "[encoded data removed]",
      "text/plain": [
       "<Figure size 432x288 with 1 Axes>"
      ]
     },
     "metadata": {
      "needs_background": "light"
     },
     "output_type": "display_data"
    }
   ],
   "source": [
    "import matplotlib.pyplot as plt\n",
    "import pandas as pd\n",
    "import numpy as np\n",
    "from keras.models import load_model\n",
    "\n",
    "categories=['angry', 'Idonno', 'worried', 'happy', 'cry', 'surprise', 'bored']\n",
    "n = 50\n",
    "\n",
    "\n",
    "print('actual:', categories[np.argmax(y_train[n])])\n",
    "plt.imshow(pd.Series(list(map(lambda pixel: float(pixel), data[data['Usage'] == 'PublicTest']['pixels'].tolist()[n].split()))).values.reshape(48,48), cmap='gray')\n",
    "\n",
    "model = load_model('model.h5')\n",
    "print('predicted:',categories[np.argmax(model.predict(X_train[n].reshape(1,48,48,1))[0])])"
   ]
  },
  {
   "cell_type": "code",
   "execution_count": 56,
   "metadata": {},
   "outputs": [],
   "source": [
    "import matplotlib.pyplot as plt\n",
    "size=48\n",
    "def saveInDirectory(label, folder, length):    \n",
    "    for i in range(length):\n",
    "        fig = plt.figure(frameon=False, dpi=1)\n",
    "        fig.set_size_inches(size, size)\n",
    "        ax = plt.Axes(fig, [0., 0., 1., 1.])\n",
    "        ax.set_axis_off()\n",
    "        fig.add_axes(ax)\n",
    "        ax.imshow(pd.Series(list(map(lambda pixel: float(pixel), data[data['Usage'] == label]['pixels'].tolist()[i].split()))).values.reshape(size, size), cmap='gray')\n",
    "        plt.savefig(f'./data/{folder}/{data[data[\"Usage\"] == label][\"emotion\"].tolist()[i]}/{i}.png')\n",
    "        plt.close(fig)\n",
    "        \n",
    "saveInDirectory('PublicTest', 'valid', len(y_valid))"
   ]
  }
 ],
 "metadata": {
  "kernelspec": {
   "display_name": "Python 3",
   "language": "python",
   "name": "python3"
  },
  "language_info": {
   "codemirror_mode": {
    "name": "ipython",
    "version": 3
   },
   "file_extension": ".py",
   "mimetype": "text/x-python",
   "name": "python",
   "nbconvert_exporter": "python",
   "pygments_lexer": "ipython3",
   "version": "3.6.5"
  }
 },
 "nbformat": 4,
 "nbformat_minor": 2
}
